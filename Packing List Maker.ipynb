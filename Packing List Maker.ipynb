{
 "cells": [
  {
   "cell_type": "code",
   "execution_count": 47,
   "metadata": {},
   "outputs": [],
   "source": [
    "import pandas as pd\n",
    "import numpy as np"
   ]
  },
  {
   "cell_type": "code",
   "execution_count": 1,
   "metadata": {},
   "outputs": [],
   "source": [
    "import tabula"
   ]
  },
  {
   "cell_type": "code",
   "execution_count": 2,
   "metadata": {},
   "outputs": [],
   "source": [
    "from PyPDF2 import PdfFileReader"
   ]
  },
  {
   "cell_type": "code",
   "execution_count": 116,
   "metadata": {},
   "outputs": [],
   "source": [
    "def is_empty(any_structure):\n",
    "    if any_structure:\n",
    "        #print('Structure is not empty.')\n",
    "        return False\n",
    "    else:\n",
    "        #print('Structure is empty.')\n",
    "        return True"
   ]
  },
  {
   "cell_type": "code",
   "execution_count": 3,
   "metadata": {},
   "outputs": [],
   "source": [
    "path = \"C://Users//james//Downloads//PO Files//\"\n",
    "\n",
    "area_of_tab = [282.645,32.106,527.175,769.656]"
   ]
  },
  {
   "cell_type": "code",
   "execution_count": 4,
   "metadata": {},
   "outputs": [
    {
     "name": "stdout",
     "output_type": "stream",
     "text": [
      "[6, 5, 5, 5, 5, 5, 5, 5, 5, 5, 5, 5]\n"
     ]
    },
    {
     "name": "stderr",
     "output_type": "stream",
     "text": [
      "PdfReadWarning: Xref table not zero-indexed. ID numbers for objects will be corrected. [pdf.py:1736]\n"
     ]
    }
   ],
   "source": [
    "list_of_docs = [318,319,320,321,324,325,326,327,328,329,330,333]\n",
    "pages = []\n",
    "for i in list_of_docs:\n",
    "    pdf = PdfFileReader(open(path + \"PO_723\" + str(i) + \".pdf\", \"rb\"))\n",
    "    pages.append(pdf.getNumPages())\n",
    "print(pages)"
   ]
  },
  {
   "cell_type": "code",
   "execution_count": 148,
   "metadata": {
    "scrolled": true
   },
   "outputs": [
    {
     "name": "stdout",
     "output_type": "stream",
     "text": [
      "318\n",
      "319\n",
      "320\n",
      "321\n",
      "324\n",
      "325\n",
      "326\n",
      "327\n",
      "328\n",
      "329\n",
      "330\n",
      "333\n"
     ]
    }
   ],
   "source": [
    "for doc,page in zip(list_of_docs,pages):\n",
    "    print(doc)\n",
    "    df = tabula.read_pdf(path + \"PO_723\" + str(doc) + \".pdf\", \"rb\", pages = '4-' + str(page), area = [[316.008,55.767,523.908,489.387]],pandas_options = {'header': None})\n",
    "    list_of_even = []\n",
    "    list_of_odd = []\n",
    "    index = df[df[3].isnull()][2].index\n",
    "    left_side_index = np.array(index) - 1\n",
    "    right = df[2][index].tolist()\n",
    "    left = df[2][left_side_index].tolist()\n",
    "    remaining_index = (set(df.index) - set(index) - set(left_side_index))\n",
    "    concat_list = []\n",
    "    for j in range(len(right)):\n",
    "        concat_list.append((left[j] + \" \" + right[j]))\n",
    "    \n",
    "    new_descrip = (pd.Series(concat_list, index = left_side_index))\n",
    "    if is_empty(remaining_index) == False:\n",
    "        new_descrip = new_descrip.append(pd.Series(df[2][remaining_index]))   \n",
    "    df = df.drop(2, axis = 1)\n",
    "    df = df.drop(index, axis = 0)\n",
    "    df = pd.concat([df, new_descrip], axis=1, sort=False)\n",
    "    df = df.reset_index().drop(\"index\", axis = 1)\n",
    "    columns = [\"Evine Live Part Number\", \"Supplier Number\",  \"Total Quantity\", \"Evine Live Description\",]\n",
    "    df.columns = columns\n",
    "    df = df[['Evine Live Part Number', 'Supplier Number','Evine Live Description', 'Total Quantity',]]\n",
    "    df.to_csv(path + \"PO_723\" + str(doc) + \".csv\")"
   ]
  },
  {
   "cell_type": "code",
   "execution_count": null,
   "metadata": {},
   "outputs": [],
   "source": []
  }
 ],
 "metadata": {
  "kernelspec": {
   "display_name": "Python 3",
   "language": "python",
   "name": "python3"
  },
  "language_info": {
   "codemirror_mode": {
    "name": "ipython",
    "version": 3
   },
   "file_extension": ".py",
   "mimetype": "text/x-python",
   "name": "python",
   "nbconvert_exporter": "python",
   "pygments_lexer": "ipython3",
   "version": "3.7.1"
  }
 },
 "nbformat": 4,
 "nbformat_minor": 2
}
